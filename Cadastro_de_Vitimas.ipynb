{
  "nbformat": 4,
  "nbformat_minor": 0,
  "metadata": {
    "colab": {
      "provenance": [],
      "authorship_tag": "ABX9TyPBOpPmlb0gejUiIWbiK7VL",
      "include_colab_link": true
    },
    "kernelspec": {
      "name": "python3",
      "display_name": "Python 3"
    },
    "language_info": {
      "name": "python"
    }
  },
  "cells": [
    {
      "cell_type": "markdown",
      "metadata": {
        "id": "view-in-github",
        "colab_type": "text"
      },
      "source": [
        "<a href=\"https://colab.research.google.com/github/Pedropaulotimao/Projeto-para-imers-o-AI/blob/main/Cadastro_de_Vitimas.ipynb\" target=\"_parent\"><img src=\"https://colab.research.google.com/assets/colab-badge.svg\" alt=\"Open In Colab\"/></a>"
      ]
    },
    {
      "cell_type": "code",
      "source": [
        "import datetime\n",
        "\n",
        "class Vitima:\n",
        "    \"\"\"Representa uma vítima de desastre natural.\"\"\"\n",
        "\n",
        "    def __init__(self, nome, cpf, data_nascimento, endereco, cidade, estado,\n",
        "                 tipo_desastre, data_ocorrencia, necessidades_especiais=None):\n",
        "        self.nome = nome\n",
        "        self.cpf = cpf\n",
        "        self.data_nascimento = data_nascimento\n",
        "        self.endereco = endereco\n",
        "        self.cidade = cidade\n",
        "        self.estado = estado\n",
        "        self.tipo_desastre = tipo_desastre\n",
        "        self.data_ocorrencia = data_ocorrencia\n",
        "        self.necessidades_especiais = necessidades_especiais\n",
        "\n",
        "    def __str__(self):\n",
        "        return f\"Nome: {self.nome}\\nCPF: {self.cpf}\\nData de Nascimento: {self.data_nascimento}\\nEndereço: {self.endereco}\\nCidade: {self.cidade}\\nEstado: {self.estado}\\nTipo de Desastre: {self.tipo_desastre}\\nData da Ocorrência: {self.data_ocorrencia}\\nNecessidades Especiais: {self.necessidades_especiais}\"\n",
        "\n",
        "def cadastrar_vitima(vitimas):\n",
        "    \"\"\"Coleta informações da vítima e a adiciona à lista de vítimas.\"\"\"\n",
        "\n",
        "    nome = input(\"Nome completo: \")\n",
        "    cpf = input(\"CPF: \")\n",
        "    while True:  # Validação simples de CPF\n",
        "        if len(cpf) != 11 or not cpf.isdigit():\n",
        "            cpf = input(\"CPF inválido. Digite novamente (somente números): \")\n",
        "        else:\n",
        "            break\n",
        "    while True: # Validação da data de nascimento\n",
        "        try:\n",
        "            data_nascimento_str = input(\"Data de nascimento (dd/mm/aaaa): \")\n",
        "            data_nascimento = datetime.datetime.strptime(data_nascimento_str, \"%d/%m/%Y\").date()\n",
        "            break\n",
        "        except ValueError:\n",
        "            print(\"Data de nascimento inválida. Use o formato dd/mm/aaaa.\")\n",
        "\n",
        "    endereco = input(\"Endereço: \")\n",
        "    cidade = input(\"Cidade: \")\n",
        "    estado = input(\"Estado: \")\n",
        "    tipo_desastre = input(\"Tipo de desastre: \")\n",
        "\n",
        "    while True: # Validação da data de ocorrência do desastre\n",
        "        try:\n",
        "            data_ocorrencia_str = input(\"Data da ocorrência do desastre (dd/mm/aaaa): \")\n",
        "            data_ocorrencia = datetime.datetime.strptime(data_ocorrencia_str, \"%d/%m/%Y\").date()\n",
        "            break\n",
        "        except ValueError:\n",
        "            print(\"Data de ocorrência inválida. Use o formato dd/mm/aaaa.\")\n",
        "\n",
        "    necessidades_especiais = input(\"Necessidades especiais (se houver, separe por vírgula): \")\n",
        "\n",
        "    vitima = Vitima(nome, cpf, data_nascimento, endereco, cidade, estado, tipo_desastre, data_ocorrencia, necessidades_especiais)\n",
        "    vitimas.append(vitima)\n",
        "    print(\"Vítima cadastrada com sucesso!\")\n",
        "\n",
        "def listar_vitimas(vitimas):\n",
        "    \"\"\"Exibe a lista de vítimas cadastradas.\"\"\"\n",
        "\n",
        "    if not vitimas:\n",
        "        print(\"Nenhuma vítima cadastrada.\")\n",
        "        return\n",
        "\n",
        "    for i, vitima in enumerate(vitimas):\n",
        "        print(f\"\\n--- Vítima {i+1} ---\")\n",
        "        print(vitima)\n",
        "\n",
        "def main():\n",
        "    \"\"\"Função principal para gerenciar o cadastro de vítimas.\"\"\"\n",
        "\n",
        "    vitimas = []\n",
        "\n",
        "    while True:\n",
        "        print(\"\\n--- Cadastro de Vítimas de Desastres Naturais ---\")\n",
        "        print(\"1. Cadastrar vítima\")\n",
        "        print(\"2. Listar vítimas\")\n",
        "        print(\"3. Sair\")\n",
        "\n",
        "        opcao = input(\"Escolha uma opção: \")\n",
        "\n",
        "        if opcao == '1':\n",
        "            cadastrar_vitima(vitimas)\n",
        "        elif opcao == '2':\n",
        "            listar_vitimas(vitimas)\n",
        "        elif opcao == '3':\n",
        "            break\n",
        "        else:\n",
        "            print(\"Opção inválida.\")\n",
        "\n",
        "if __name__ == \"__main__\":\n",
        "    main()"
      ],
      "metadata": {
        "id": "vByVmS4k8Zd5",
        "colab": {
          "base_uri": "https://localhost:8080/"
        },
        "outputId": "2214a051-418f-46ee-a08d-699e87ed4946"
      },
      "execution_count": null,
      "outputs": [
        {
          "output_type": "stream",
          "name": "stdout",
          "text": [
            "\n",
            "--- Cadastro de Vítimas de Desastres Naturais ---\n",
            "1. Cadastrar vítima\n",
            "2. Listar vítimas\n",
            "3. Sair\n"
          ]
        }
      ]
    }
  ]
}